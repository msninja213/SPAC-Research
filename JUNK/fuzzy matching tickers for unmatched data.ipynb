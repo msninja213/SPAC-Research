{
 "cells": [
  {
   "cell_type": "code",
   "execution_count": 6,
   "metadata": {},
   "outputs": [],
   "source": [
    "# Install the fuzzywuzzy library if you haven't already\n",
    "from fuzzywuzzy import fuzz\n",
    "import pandas as pd\n"
   ]
  },
  {
   "cell_type": "code",
   "execution_count": 7,
   "metadata": {},
   "outputs": [],
   "source": [
    "unmatched_data = pd.read_excel(\"C:\\\\Users\\\\msnin\\\\OneDrive\\\\Desktop\\\\SPAC Research\\\\SPACAlphadata.xlsx\", sheet_name=\"unmatched_fuzzymatch\")\n",
    "spac_alpha_data = pd.read_excel(\"C:\\\\Users\\\\msnin\\\\OneDrive\\\\Desktop\\\\SPAC Research\\\\SPACAlphadata.xlsx\", sheet_name=\"testing\")"
   ]
  },
  {
   "cell_type": "code",
   "execution_count": 8,
   "metadata": {},
   "outputs": [],
   "source": [
    "# Function for fuzzy matching\n",
    "def fuzzy_match(row):\n",
    "    # Extract the ticker from the 'unmatched tickers' column\n",
    "    ticker = row['unmatched tickers']\n",
    "    \n",
    "    # Extract SPAC tickers from the 'SPAC Ticker' column\n",
    "    spac_tickers = spac_alpha_data['SPAC Ticker'].tolist()\n",
    "    \n",
    "    # Check for fuzzy match\n",
    "    for spac_ticker in spac_tickers:\n",
    "        if fuzz.token_sort_ratio(ticker, spac_ticker) >= 80:  # Adjust the threshold as per your requirements\n",
    "            return spac_ticker\n",
    "    return None\n"
   ]
  },
  {
   "cell_type": "code",
   "execution_count": 9,
   "metadata": {},
   "outputs": [
    {
     "data": {
      "text/html": [
       "<div>\n",
       "<style scoped>\n",
       "    .dataframe tbody tr th:only-of-type {\n",
       "        vertical-align: middle;\n",
       "    }\n",
       "\n",
       "    .dataframe tbody tr th {\n",
       "        vertical-align: top;\n",
       "    }\n",
       "\n",
       "    .dataframe thead th {\n",
       "        text-align: right;\n",
       "    }\n",
       "</style>\n",
       "<table border=\"1\" class=\"dataframe\">\n",
       "  <thead>\n",
       "    <tr style=\"text-align: right;\">\n",
       "      <th></th>\n",
       "      <th>unmatched tickers</th>\n",
       "      <th>matched_ticker</th>\n",
       "    </tr>\n",
       "  </thead>\n",
       "  <tbody>\n",
       "    <tr>\n",
       "      <th>0</th>\n",
       "      <td>KNTK</td>\n",
       "      <td>None</td>\n",
       "    </tr>\n",
       "    <tr>\n",
       "      <th>1</th>\n",
       "      <td>FSACU</td>\n",
       "      <td>FSAC</td>\n",
       "    </tr>\n",
       "    <tr>\n",
       "      <th>2</th>\n",
       "      <td>AVCTQ</td>\n",
       "      <td>None</td>\n",
       "    </tr>\n",
       "    <tr>\n",
       "      <th>3</th>\n",
       "      <td>DOTAU</td>\n",
       "      <td>DOTA</td>\n",
       "    </tr>\n",
       "    <tr>\n",
       "      <th>4</th>\n",
       "      <td>CIK0001707306</td>\n",
       "      <td>None</td>\n",
       "    </tr>\n",
       "    <tr>\n",
       "      <th>...</th>\n",
       "      <td>...</td>\n",
       "      <td>...</td>\n",
       "    </tr>\n",
       "    <tr>\n",
       "      <th>316</th>\n",
       "      <td>PLTN</td>\n",
       "      <td>LTN</td>\n",
       "    </tr>\n",
       "    <tr>\n",
       "      <th>317</th>\n",
       "      <td>PTWOU</td>\n",
       "      <td>None</td>\n",
       "    </tr>\n",
       "    <tr>\n",
       "      <th>318</th>\n",
       "      <td>MOBV</td>\n",
       "      <td>None</td>\n",
       "    </tr>\n",
       "    <tr>\n",
       "      <th>319</th>\n",
       "      <td>ATMVU</td>\n",
       "      <td>None</td>\n",
       "    </tr>\n",
       "    <tr>\n",
       "      <th>320</th>\n",
       "      <td>HSPO</td>\n",
       "      <td>None</td>\n",
       "    </tr>\n",
       "  </tbody>\n",
       "</table>\n",
       "<p>321 rows × 2 columns</p>\n",
       "</div>"
      ],
      "text/plain": [
       "    unmatched tickers matched_ticker\n",
       "0                KNTK           None\n",
       "1               FSACU           FSAC\n",
       "2               AVCTQ           None\n",
       "3               DOTAU           DOTA\n",
       "4       CIK0001707306           None\n",
       "..                ...            ...\n",
       "316              PLTN            LTN\n",
       "317             PTWOU           None\n",
       "318              MOBV           None\n",
       "319             ATMVU           None\n",
       "320              HSPO           None\n",
       "\n",
       "[321 rows x 2 columns]"
      ]
     },
     "metadata": {},
     "output_type": "display_data"
    }
   ],
   "source": [
    "# Apply the fuzzy_match function to the 'unmatched tickers' column\n",
    "unmatched_data['matched_ticker'] = unmatched_data.apply(fuzzy_match, axis=1)\n",
    "\n",
    "# Display the matched tickers\n",
    "display(unmatched_data[['unmatched tickers', 'matched_ticker']])\n"
   ]
  },
  {
   "cell_type": "code",
   "execution_count": 11,
   "metadata": {},
   "outputs": [],
   "source": [
    "# Save the results to a new Excel file\n",
    "\n",
    "unmatched_data.to_excel('fuzzy matching legitness.xlsx', index=False)\n"
   ]
  }
 ],
 "metadata": {
  "kernelspec": {
   "display_name": "Python 3",
   "language": "python",
   "name": "python3"
  },
  "language_info": {
   "codemirror_mode": {
    "name": "ipython",
    "version": 3
   },
   "file_extension": ".py",
   "mimetype": "text/x-python",
   "name": "python",
   "nbconvert_exporter": "python",
   "pygments_lexer": "ipython3",
   "version": "3.11.7"
  }
 },
 "nbformat": 4,
 "nbformat_minor": 2
}
