{
 "cells": [
  {
   "cell_type": "code",
   "execution_count": 33,
   "metadata": {},
   "outputs": [],
   "source": [
    "import pandas as pd\n",
    "import fuzzywuzzy\n",
    "from fuzzywuzzy import fuzz, process"
   ]
  },
  {
   "cell_type": "markdown",
   "metadata": {},
   "source": [
    "# Opening excel files"
   ]
  },
  {
   "cell_type": "code",
   "execution_count": 34,
   "metadata": {},
   "outputs": [],
   "source": [
    "SPAC_Alpha_data = pd.read_excel(\"C:\\\\Users\\\\msnin\\\\OneDrive\\\\Desktop\\\\SPAC Research\\\\SPACAlphadata.xlsx\", sheet_name = 'testing')\n",
    "data_overlap = pd.read_excel(\"C:\\\\Users\\\\msnin\\\\OneDrive\\\\Desktop\\\\SPAC Research\\\\SPACAlphadata.xlsx\", sheet_name = 'Data_Overlap')"
   ]
  },
  {
   "cell_type": "markdown",
   "metadata": {},
   "source": [
    "# exact matching code"
   ]
  },
  {
   "cell_type": "code",
   "execution_count": 35,
   "metadata": {},
   "outputs": [],
   "source": [
    "def exact_match(row):\n",
    "    # Convert the 'Ticker - SS' column to strings and handle NaN values\n",
    "    ticker_ss = str(row['Ticker - SS']).strip()\n",
    "\n",
    "    # Matching data merge against 3 columns in the SPAC_Alpha_data sheet: SPAC Ticker, Newco Ticker, and Newco Warrant Ticker\n",
    "    spac_ticker_choices = SPAC_Alpha_data['SPAC Ticker'].dropna().astype(str).tolist()\n",
    "    newco_ticker_choices = SPAC_Alpha_data['Newco Ticker'].dropna().astype(str).tolist()\n",
    "    newcow_ticker_choices = SPAC_Alpha_data['Newco Warrant Ticker'].dropna().astype(str).tolist()\n",
    "\n",
    "    # Extracting the text to fuzzy match and collecting a tuple of fuzzy matches\n",
    "    spac_ticker_match = process.extractOne(ticker_ss, spac_ticker_choices, scorer=fuzz.ratio)\n",
    "    newco_ticker_match = process.extractOne(ticker_ss, newco_ticker_choices, scorer=fuzz.ratio)\n",
    "    newcow_ticker_match = process.extractOne(ticker_ss, newcow_ticker_choices, scorer=fuzz.ratio)\n",
    "\n",
    "    # Checking the similarity scores (if it's 100, it's a perfect match)\n",
    "    if spac_ticker_match[1] == 100:\n",
    "        return spac_ticker_match[0]\n",
    "    elif newco_ticker_match[1] == 100:\n",
    "        return newco_ticker_match[0]\n",
    "    elif newcow_ticker_match[1] == 100:\n",
    "        return newcow_ticker_match[0]\n",
    "    else:\n",
    "        return None\n",
    "\n"
   ]
  },
  {
   "cell_type": "code",
   "execution_count": 36,
   "metadata": {},
   "outputs": [],
   "source": [
    "# Apply exact matching and update the dataframe\n",
    "data_overlap['MatchwSTicker'] = data_overlap.apply(exact_match, axis=1)\n",
    "data_overlap['MatchwNTicker'] = data_overlap.apply(exact_match, axis=1)\n"
   ]
  },
  {
   "cell_type": "code",
   "execution_count": 37,
   "metadata": {},
   "outputs": [],
   "source": [
    "#updated DF\n",
    "data_overlap.to_excel(\"part A, matching_tickers_to_SPACAlpha.xlsx\", index=False)\n"
   ]
  }
 ],
 "metadata": {
  "kernelspec": {
   "display_name": "Python 3",
   "language": "python",
   "name": "python3"
  },
  "language_info": {
   "codemirror_mode": {
    "name": "ipython",
    "version": 3
   },
   "file_extension": ".py",
   "mimetype": "text/x-python",
   "name": "python",
   "nbconvert_exporter": "python",
   "pygments_lexer": "ipython3",
   "version": "3.11.7"
  }
 },
 "nbformat": 4,
 "nbformat_minor": 2
}
