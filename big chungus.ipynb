{
 "cells": [
  {
   "cell_type": "code",
   "execution_count": 50,
   "metadata": {},
   "outputs": [],
   "source": [
    "import pandas as pd\n",
    "import fuzzywuzzy\n",
    "from fuzzywuzzy import fuzz, process"
   ]
  },
  {
   "cell_type": "markdown",
   "metadata": {},
   "source": [
    "# Opening excel files"
   ]
  },
  {
   "cell_type": "code",
   "execution_count": 59,
   "metadata": {},
   "outputs": [],
   "source": [
    "#dont open these excel files or they wont load \n",
    "unmatched_companies = pd.read_excel(\"C:\\\\Users\\\\msnin\\\\OneDrive\\\\Desktop\\\\SPAC Research\\\\DataMerge.xlsx\", sheet_name=\"Unmatched_Companies\")\n",
    "#saad_data = pd.read_excel(\"C:\\\\Users\\\\msnin\\\\OneDrive\\\\Desktop\\\\SPAC Research\\\\DataMerge.xlsx\", sheet_name=\"Companies_Saad\")\n",
    "\n",
    "#OG dataset \n",
    "SPAC_Alpha_data = pd.read_excel(\"C:\\\\Users\\\\msnin\\\\OneDrive\\\\Desktop\\\\SPAC Research\\\\SPACAlphadata.xlsx\")"
   ]
  },
  {
   "cell_type": "markdown",
   "metadata": {},
   "source": [
    "# fuzzy matching code"
   ]
  },
  {
   "cell_type": "code",
   "execution_count": 52,
   "metadata": {},
   "outputs": [],
   "source": [
    "def exact_match(row):\n",
    "    \n",
    "    #matching data merge against 3 columns in the spac_alpha_data sheet: spac ticker, newco ticker, and newco warrant ticker\n",
    "    spac_ticker_choices = SPAC_Alpha_data['SPAC Ticker'].dropna().tolist()\n",
    "    newco_ticker_choices = SPAC_Alpha_data['Newco Ticker'].dropna().tolist()\n",
    "    newcow_ticker_choices = SPAC_Alpha_data['Newco Warrant Ticker'].dropna().tolist()\n",
    "    #saad_data_choices = saad_data['Ticker'].dropna().tolist()\n",
    "\n",
    "    #extracting the text to fuzzy match. strip removes any whitespace, chooses from the ticker_choices, and collected a tupple of fuzzy matches\n",
    "    #this avoids making a massive for loop that takes 32435627849 hours to iterate thru\n",
    "    spac_ticker_match = process.extractOne(row['Ticker - SS'].strip(), spac_ticker_choices, scorer=fuzz.ratio)\n",
    "    newco_ticker_match = process.extractOne(row['Ticker - SS'].strip(), newco_ticker_choices, scorer=fuzz.ratio)\n",
    "    newcow_ticker_match = process.extractOne(row['Ticker - SS'].strip(), newcow_ticker_choices, scorer=fuzz.ratio)\n",
    "    #saad_ticker_match = process.extractOne(row['Ticker - SS'].strip(), saad_data_choices, scorer=fuzz.ratio)\n",
    "\n",
    "    #checking the simularity scores (if its 100, its a perfect match)\n",
    "    if spac_ticker_match[1] == 100:\n",
    "        return spac_ticker_match[0]\n",
    "    elif newco_ticker_match[1] == 100:\n",
    "        return newco_ticker_match[0]\n",
    "    elif newcow_ticker_match[1] == 100:\n",
    "        return newcow_ticker_match[0]\n",
    "    # elif saad_ticker_match[1] == 100:\n",
    "    #     return saad_ticker_match[0]\n",
    "    else:\n",
    "        return None"
   ]
  },
  {
   "cell_type": "code",
   "execution_count": 53,
   "metadata": {},
   "outputs": [],
   "source": [
    "# Apply exact matching and update the dataframe\n",
    "unmatched_companies['MatchwSTicker'] = unmatched_companies.apply(exact_match, axis=1)\n",
    "unmatched_companies['MatchwNTicker'] = unmatched_companies.apply(exact_match, axis=1)\n"
   ]
  },
  {
   "cell_type": "code",
   "execution_count": 54,
   "metadata": {},
   "outputs": [],
   "source": [
    "#updated DF\n",
    "unmatched_companies.to_excel(\"Updated_DataMerge_7.xlsx\", index=False)\n"
   ]
  }
 ],
 "metadata": {
  "kernelspec": {
   "display_name": "Python 3",
   "language": "python",
   "name": "python3"
  },
  "language_info": {
   "codemirror_mode": {
    "name": "ipython",
    "version": 3
   },
   "file_extension": ".py",
   "mimetype": "text/x-python",
   "name": "python",
   "nbconvert_exporter": "python",
   "pygments_lexer": "ipython3",
   "version": "3.11.7"
  }
 },
 "nbformat": 4,
 "nbformat_minor": 2
}
