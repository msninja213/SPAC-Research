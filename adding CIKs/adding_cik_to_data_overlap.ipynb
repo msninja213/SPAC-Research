{
 "cells": [
  {
   "cell_type": "code",
   "execution_count": 1,
   "metadata": {},
   "outputs": [
    {
     "name": "stderr",
     "output_type": "stream",
     "text": [
      "C:\\Users\\msnin\\AppData\\Local\\Packages\\PythonSoftwareFoundation.Python.3.11_qbz5n2kfra8p0\\LocalCache\\local-packages\\Python311\\site-packages\\fuzzywuzzy\\fuzz.py:11: UserWarning: Using slow pure-python SequenceMatcher. Install python-Levenshtein to remove this warning\n",
      "  warnings.warn('Using slow pure-python SequenceMatcher. Install python-Levenshtein to remove this warning')\n"
     ]
    }
   ],
   "source": [
    "import pandas as pd\n",
    "import fuzzywuzzy\n",
    "from fuzzywuzzy import fuzz, process"
   ]
  },
  {
   "cell_type": "code",
   "execution_count": 2,
   "metadata": {},
   "outputs": [],
   "source": [
    "# Load data from Excel files\n",
    "unmatched_companies = pd.read_excel(\"C:\\\\Users\\\\msnin\\\\OneDrive\\\\Desktop\\\\SPAC Research\\\\DataMerge.xlsx\", sheet_name=\"Unmatched_Companies\")\n",
    "spac_alpha_data = pd.read_excel(\"C:\\\\Users\\\\msnin\\\\OneDrive\\\\Desktop\\\\SPAC Research\\\\SPACAlphadata.xlsx\")\n",
    "data_merge = pd.read_excel(\"C:\\\\Users\\\\msnin\\\\OneDrive\\\\Desktop\\\\SPAC Research\\\\DataMerge.xlsx\", sheet_name=\"Companies_Saad\")"
   ]
  },
  {
   "cell_type": "code",
   "execution_count": null,
   "metadata": {},
   "outputs": [],
   "source": [
    "#first add CIK to all unmatched_companies\n"
   ]
  },
  {
   "cell_type": "code",
   "execution_count": null,
   "metadata": {},
   "outputs": [],
   "source": [
    "def exact_match(row):\n",
    "    # Matching data merge against 3 columns in the spac_alpha_data sheet: spac ticker, newco ticker, and newco warrant ticker\n",
    "    spac_ticker_choices = spac_alpha_data['SPAC Ticker'].dropna().tolist()\n",
    "    newco_ticker_choices = spac_alpha_data['Newco Ticker'].dropna().tolist()\n",
    "    newcow_ticker_choices = spac_alpha_data['Newco Warrant Ticker'].dropna().tolist()\n",
    "\n",
    "    # Extracting the text to check for exact matches\n",
    "    spac_ticker = row['Ticker - SS'].strip()\n",
    "    newco_ticker = row['Ticker - SS'].strip()\n",
    "    newcow_ticker = row['Ticker - SS'].strip()\n",
    "\n",
    "    # Checking for exact matches and pulling corresponding CIK\n",
    "    if spac_ticker in spac_ticker_choices:\n",
    "        return data_merge.loc[data_merge['Ticker'] == spac_ticker, 'cik'].values[0]\n",
    "    elif newco_ticker in newco_ticker_choices:\n",
    "        return data_merge.loc[data_merge['Ticker'] == newco_ticker, 'cik'].values[0]\n",
    "    elif newcow_ticker in newcow_ticker_choices:\n",
    "        return data_merge.loc[data_merge['Ticker'] == newcow_ticker, 'cik'].values[0]\n",
    "    else:\n",
    "        return None\n"
   ]
  },
  {
   "cell_type": "code",
   "execution_count": null,
   "metadata": {},
   "outputs": [],
   "source": [
    "# Apply exact matching and update the 'CIK Code' column in SPACAlphadata\n",
    "unmatched_companies['CIK Code'] = unmatched_companies.apply(exact_match, axis=1)\n",
    "\n",
    "# Save the updated SPACAlphadata\n",
    "unmatched_companies.to_excel(\"Updated_DataMerge_7.xlsx\", index=False)"
   ]
  }
 ],
 "metadata": {
  "kernelspec": {
   "display_name": "Python 3",
   "language": "python",
   "name": "python3"
  },
  "language_info": {
   "codemirror_mode": {
    "name": "ipython",
    "version": 3
   },
   "file_extension": ".py",
   "mimetype": "text/x-python",
   "name": "python",
   "nbconvert_exporter": "python",
   "pygments_lexer": "ipython3",
   "version": "3.11.7"
  }
 },
 "nbformat": 4,
 "nbformat_minor": 2
}
