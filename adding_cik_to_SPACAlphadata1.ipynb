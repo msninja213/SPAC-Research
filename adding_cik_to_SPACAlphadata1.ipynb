{
 "cells": [
  {
   "cell_type": "code",
   "execution_count": 1,
   "metadata": {},
   "outputs": [
    {
     "name": "stderr",
     "output_type": "stream",
     "text": [
      "C:\\Users\\msnin\\AppData\\Local\\Packages\\PythonSoftwareFoundation.Python.3.11_qbz5n2kfra8p0\\LocalCache\\local-packages\\Python311\\site-packages\\fuzzywuzzy\\fuzz.py:11: UserWarning: Using slow pure-python SequenceMatcher. Install python-Levenshtein to remove this warning\n",
      "  warnings.warn('Using slow pure-python SequenceMatcher. Install python-Levenshtein to remove this warning')\n"
     ]
    }
   ],
   "source": [
    "#code is the for adding CIK to SPACAlpha\n",
    "import pandas as pd\n",
    "from fuzzywuzzy import process, fuzz"
   ]
  },
  {
   "cell_type": "code",
   "execution_count": 2,
   "metadata": {},
   "outputs": [],
   "source": [
    "# Read the dataframes\n",
    "spac_alpha_data = pd.read_excel(\"C:\\\\Users\\\\msnin\\\\OneDrive\\\\Desktop\\\\SPAC Research\\\\SPACAlphadata.xlsx\", sheet_name=\"testing\")\n",
    "all_companies_data = pd.read_excel(\"C:\\\\Users\\\\msnin\\\\OneDrive\\\\Desktop\\\\SPAC Research\\\\SPACAlphadata.xlsx\", sheet_name=\"all companies + cik\")"
   ]
  },
  {
   "cell_type": "code",
   "execution_count": 3,
   "metadata": {},
   "outputs": [],
   "source": [
    "def fuzzy_match_and_update(row):\n",
    "    # Convert tickers to string\n",
    "    spac_ticker = str(row['SPAC Ticker'])\n",
    "    newco_ticker = str(row['Newco Ticker'])\n",
    "    newco_warrant_ticker = str(row['Newco Warrant Ticker'])\n",
    "    \n",
    "    # Fuzzy match for SPAC Ticker/Newco/NewcoWarrant\n",
    "    spac_ticker_match = process.extractOne(spac_ticker, all_companies_data['Ticker'].astype(str), scorer=fuzz.ratio)\n",
    "    newco_ticker_match = process.extractOne(newco_ticker, all_companies_data['Ticker'].astype(str), scorer=fuzz.ratio)\n",
    "    newco_warrant_ticker_match = process.extractOne(newco_warrant_ticker, all_companies_data['Ticker'].astype(str), scorer=fuzz.ratio)\n",
    "\n",
    "    # Check matches and update 'CIK Ticker' column\n",
    "    if spac_ticker_match[1] >= newco_ticker_match[1] and spac_ticker_match[1] >= newco_warrant_ticker_match[1]:\n",
    "        row['CIK Ticker'] = all_companies_data[all_companies_data['Ticker'].astype(str) == spac_ticker_match[0]]['cik'].values[0] if not all_companies_data[all_companies_data['Ticker'].astype(str) == spac_ticker_match[0]].empty else None\n",
    "    elif newco_ticker_match[1] >= spac_ticker_match[1] and newco_ticker_match[1] >= newco_warrant_ticker_match[1]:\n",
    "        row['CIK Ticker'] = all_companies_data[all_companies_data['Ticker'].astype(str) == newco_ticker_match[0]]['cik'].values[0] if not all_companies_data[all_companies_data['Ticker'].astype(str) == newco_ticker_match[0]].empty else None\n",
    "    elif newco_warrant_ticker_match[1] >= spac_ticker_match[1] and newco_warrant_ticker_match[1] >= newco_ticker_match[1]:\n",
    "        row['CIK Ticker'] = all_companies_data[all_companies_data['Ticker'].astype(str) == newco_warrant_ticker_match[0]]['cik'].values[0] if not all_companies_data[all_companies_data['Ticker'].astype(str) == newco_warrant_ticker_match[0]].empty else None\n",
    "    else:\n",
    "        row['CIK Ticker'] = None\n",
    "\n",
    "    return row\n"
   ]
  },
  {
   "cell_type": "code",
   "execution_count": 4,
   "metadata": {},
   "outputs": [
    {
     "name": "stderr",
     "output_type": "stream",
     "text": [
      "WARNING:root:Applied processor reduces input query to empty string, all comparisons will have score 0. [Query: '*']\n",
      "WARNING:root:Applied processor reduces input query to empty string, all comparisons will have score 0. [Query: '*']\n",
      "WARNING:root:Applied processor reduces input query to empty string, all comparisons will have score 0. [Query: '*']\n",
      "WARNING:root:Applied processor reduces input query to empty string, all comparisons will have score 0. [Query: '*']\n",
      "WARNING:root:Applied processor reduces input query to empty string, all comparisons will have score 0. [Query: '*']\n",
      "WARNING:root:Applied processor reduces input query to empty string, all comparisons will have score 0. [Query: '*']\n",
      "WARNING:root:Applied processor reduces input query to empty string, all comparisons will have score 0. [Query: '*']\n",
      "WARNING:root:Applied processor reduces input query to empty string, all comparisons will have score 0. [Query: '*']\n",
      "WARNING:root:Applied processor reduces input query to empty string, all comparisons will have score 0. [Query: '*']\n",
      "WARNING:root:Applied processor reduces input query to empty string, all comparisons will have score 0. [Query: '*']\n",
      "WARNING:root:Applied processor reduces input query to empty string, all comparisons will have score 0. [Query: '*']\n",
      "WARNING:root:Applied processor reduces input query to empty string, all comparisons will have score 0. [Query: '*']\n",
      "WARNING:root:Applied processor reduces input query to empty string, all comparisons will have score 0. [Query: '*']\n",
      "WARNING:root:Applied processor reduces input query to empty string, all comparisons will have score 0. [Query: '*']\n",
      "WARNING:root:Applied processor reduces input query to empty string, all comparisons will have score 0. [Query: '*']\n",
      "WARNING:root:Applied processor reduces input query to empty string, all comparisons will have score 0. [Query: '*']\n",
      "WARNING:root:Applied processor reduces input query to empty string, all comparisons will have score 0. [Query: '*']\n",
      "WARNING:root:Applied processor reduces input query to empty string, all comparisons will have score 0. [Query: '*']\n",
      "WARNING:root:Applied processor reduces input query to empty string, all comparisons will have score 0. [Query: '*']\n",
      "WARNING:root:Applied processor reduces input query to empty string, all comparisons will have score 0. [Query: '*']\n",
      "WARNING:root:Applied processor reduces input query to empty string, all comparisons will have score 0. [Query: '*']\n",
      "WARNING:root:Applied processor reduces input query to empty string, all comparisons will have score 0. [Query: '*']\n"
     ]
    }
   ],
   "source": [
    "# Apply the fuzzy matching and updating function\n",
    "spac_alpha_data = spac_alpha_data.apply(fuzzy_match_and_update, axis=1)\n"
   ]
  },
  {
   "cell_type": "code",
   "execution_count": 5,
   "metadata": {},
   "outputs": [],
   "source": [
    "# Save the updated DataFrame to a new Excel file\n",
    "spac_alpha_data.to_excel(\"updated_SPACAlphadata420.xlsx\", index=False)\n"
   ]
  }
 ],
 "metadata": {
  "kernelspec": {
   "display_name": "Python 3",
   "language": "python",
   "name": "python3"
  },
  "language_info": {
   "codemirror_mode": {
    "name": "ipython",
    "version": 3
   },
   "file_extension": ".py",
   "mimetype": "text/x-python",
   "name": "python",
   "nbconvert_exporter": "python",
   "pygments_lexer": "ipython3",
   "version": "3.11.7"
  }
 },
 "nbformat": 4,
 "nbformat_minor": 2
}
