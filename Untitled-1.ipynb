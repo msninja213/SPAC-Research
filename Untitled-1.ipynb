{
 "cells": [
  {
   "cell_type": "code",
   "execution_count": 10,
   "metadata": {},
   "outputs": [],
   "source": [
    "import pandas as pd\n",
    "import fuzzywuzzy\n",
    "from fuzzywuzzy import fuzz, process"
   ]
  },
  {
   "cell_type": "code",
   "execution_count": 11,
   "metadata": {},
   "outputs": [],
   "source": [
    "unmatched_companies = pd.read_excel(\"C:\\\\Users\\\\msnin\\\\OneDrive\\\\Desktop\\\\SPAC Research\\\\DataMerge.xlsx\", sheet_name=\"Unmatched_Companies\")\n",
    "spac_alpha_data = pd.read_excel(\"C:\\\\Users\\\\msnin\\\\OneDrive\\\\Desktop\\\\SPAC Research\\\\SPACAlphadata.xlsx\")\n",
    "data_merge = pd.read_excel(\"C:\\\\Users\\\\msnin\\\\OneDrive\\\\Desktop\\\\SPAC Research\\\\DataMerge.xlsx\", sheet_name=\"Companies_Saad\")\n"
   ]
  },
  {
   "cell_type": "code",
   "execution_count": 12,
   "metadata": {},
   "outputs": [],
   "source": [
    "def fuzzy_match_ticker(row, ticker_choices):\n",
    "    # Extracting the text to fuzzy match. Strip removes any whitespace.\n",
    "    ticker_match = process.extractOne(row['Ticker - SS'].strip(), ticker_choices, scorer=fuzz.ratio)\n",
    "    \n",
    "    # Checking the similarity scores (if it's 100, it's a perfect match)\n",
    "    if ticker_match[1] == 100:\n",
    "        return ticker_match[0]\n",
    "    else:\n",
    "        return None\n"
   ]
  },
  {
   "cell_type": "code",
   "execution_count": 13,
   "metadata": {},
   "outputs": [],
   "source": [
    "spac_ticker_choices = spac_alpha_data['SPAC Ticker'].dropna().tolist()\n",
    "unmatched_companies['MatchwSTicker'] = unmatched_companies.apply(fuzzy_match_ticker, ticker_choices=spac_ticker_choices, axis=1)\n",
    "\n",
    "\n",
    "newco_ticker_choices = spac_alpha_data['Newco Ticker'].dropna().tolist()\n",
    "unmatched_companies['MatchwNTicker'] = unmatched_companies.apply(fuzzy_match_ticker, ticker_choices=newco_ticker_choices, axis=1)\n",
    "\n",
    "\n",
    "newco_warrant_ticker_choices = spac_alpha_data['Newco Warrant Ticker'].dropna().tolist()\n",
    "unmatched_companies['MatchwNWarrantT'] = unmatched_companies.apply(fuzzy_match_ticker, ticker_choices=newco_warrant_ticker_choices, axis=1)\n"
   ]
  },
  {
   "cell_type": "code",
   "execution_count": null,
   "metadata": {},
   "outputs": [],
   "source": [
    "# Cell 6: Update 'CIK Code' using vectorized operations\n",
    "\n",
    "spac_alpha_data['CIK Code'] = spac_alpha_data['CIK Code'].combine_first(\n",
    "    unmatched_companies.merge(\n",
    "        data_merge[['Ticker', 'cik']], \n",
    "        left_on='MatchwSTicker', \n",
    "        right_on='Ticker', \n",
    "        how='left'\n",
    "    )['cik']\n",
    ")\n",
    "spac_alpha_data['CIK Code'] = spac_alpha_data['CIK Code'].combine_first(\n",
    "    unmatched_companies.merge(\n",
    "        data_merge[['Ticker', 'cik']], \n",
    "        left_on='MatchwNTicker', \n",
    "        right_on='Ticker', \n",
    "        how='left'\n",
    "    )['cik']\n",
    ")\n",
    "spac_alpha_data['CIK Code'] = spac_alpha_data['CIK Code'].combine_first(\n",
    "    unmatched_companies.merge(\n",
    "        data_merge[['Ticker', 'cik']], \n",
    "        left_on='MatchwNWarrantT', \n",
    "        right_on='Ticker', \n",
    "        how='left'\n",
    "    )['cik']\n",
    ")\n"
   ]
  },
  {
   "cell_type": "code",
   "execution_count": null,
   "metadata": {},
   "outputs": [],
   "source": [
    "# Cell 7: Save the updated SPACAlphadata\n",
    "\n",
    "spac_alpha_data.to_excel(\"Updated_SPACAlphadata4534.xlsx\", index=False)"
   ]
  }
 ],
 "metadata": {
  "kernelspec": {
   "display_name": "Python 3",
   "language": "python",
   "name": "python3"
  },
  "language_info": {
   "codemirror_mode": {
    "name": "ipython",
    "version": 3
   },
   "file_extension": ".py",
   "mimetype": "text/x-python",
   "name": "python",
   "nbconvert_exporter": "python",
   "pygments_lexer": "ipython3",
   "version": "3.11.7"
  }
 },
 "nbformat": 4,
 "nbformat_minor": 2
}
