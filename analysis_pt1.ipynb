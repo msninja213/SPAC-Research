{
 "cells": [
  {
   "cell_type": "code",
   "execution_count": 6,
   "metadata": {},
   "outputs": [],
   "source": [
    "import pandas as pd\n",
    "import numpy as np\n",
    "from sklearn.model_selection import train_test_split\n",
    "from sklearn.linear_model import LinearRegression\n",
    "from sklearn.metrics import mean_squared_error "
   ]
  },
  {
   "cell_type": "code",
   "execution_count": 21,
   "metadata": {},
   "outputs": [],
   "source": [
    "# Load data from Excel file\n",
    "data = pd.read_excel(\"C:\\\\Users\\\\msnin\\\\OneDrive\\\\\\Desktop\\\\SPAC Research\\\\Dataset 6-2023.xlsx\", sheet_name=\"OG (2)\")\n",
    "data.dropna(inplace=True)\n",
    "data.shape \n",
    "\n",
    "features = data.iloc[:, 2:-1]  # assuming the target column is the last one\n",
    "target = data['target']\n",
    "\n",
    "X_train, X_test, y_train, y_test = train_test_split(features, target, test_size=0.2, random_state=42)"
   ]
  },
  {
   "cell_type": "markdown",
   "metadata": {},
   "source": [
    "linear regression with variables \"ln_assets, ln_cash, ln_trust, warrant_liab, leverage_w, complexity, deSPAC, neg_fv_changes, ln_temp_equity, ln_temp_equity2, target\" (no _cons variable)\n"
   ]
  },
  {
   "cell_type": "code",
   "execution_count": 22,
   "metadata": {},
   "outputs": [
    {
     "name": "stdout",
     "output_type": "stream",
     "text": [
      "Mean Squared Error: 0.6703863873045869\n",
      "Adjusted RMSE: 0.827375054007625\n"
     ]
    }
   ],
   "source": [
    "model = LinearRegression()\n",
    "model.fit(X_train, y_train)\n",
    "predictions = model.predict(X_test)\n",
    "\n",
    "mse = mean_squared_error(y_test, predictions)\n",
    "print(\"Mean Squared Error:\", mse)\n",
    "\n",
    "# ADJUSTED RMSE (sqrt MSE with p and n)\n",
    "p = X_train.shape[1] # number of predictors\n",
    "n = len(y_test) # number of observations \n",
    "adjusted_rmse = np.sqrt(mse * (n - 1) / (n - p))\n",
    "print(\"Adjusted RMSE:\", adjusted_rmse)  \n",
    "\n"
   ]
  },
  {
   "cell_type": "markdown",
   "metadata": {},
   "source": [
    "polynomial line of best fit (same variables, quadratic had the best RMSE -- tested degrees 0-10)"
   ]
  },
  {
   "cell_type": "code",
   "execution_count": 20,
   "metadata": {},
   "outputs": [
    {
     "name": "stdout",
     "output_type": "stream",
     "text": [
      "{0: 1.3953061904980122, 1: 0.827375054007625, 2: 0.7390372059675095, 3: 0.8396946998955493, 4: 6.537340275536831, 5: 1123.205095439545, 6: 60137197.20582778, 7: 191626017.4815785, 8: 714283179.1848011, 9: 854018836.7617644}\n"
     ]
    }
   ],
   "source": [
    "from sklearn.preprocessing import PolynomialFeatures\n",
    "\n",
    "adj_rmse_dict = {}\n",
    "\n",
    "for i in range(10):\n",
    "        poly = PolynomialFeatures(i)\n",
    "        X_poly_train = poly.fit_transform(X_train)\n",
    "        X_poly_test = poly.transform(X_test)\n",
    "\n",
    "        model = LinearRegression()\n",
    "        model.fit(X_poly_train, y_train)\n",
    "\n",
    "        y_pred = model.predict(X_poly_test)\n",
    "\n",
    "        # Evaluate the model\n",
    "        mse = mean_squared_error(y_test, y_pred)\n",
    "\n",
    "        # ADJUSTED RMSE (sqrt MSE with p and n)\n",
    "        p = X_train.shape[1] # number of predictors\n",
    "        n = len(y_test) # number of observations \n",
    "        adjusted_rmse = np.sqrt(mse * (n - 1) / (n - p))\n",
    "        adj_rmse_dict[i] = adjusted_rmse\n",
    "\n",
    "print(adj_rmse_dict)\n",
    "\n"
   ]
  },
  {
   "cell_type": "markdown",
   "metadata": {},
   "source": [
    "Ridge model (better at making long-term predictions, all variables are useful)"
   ]
  },
  {
   "cell_type": "code",
   "execution_count": 52,
   "metadata": {},
   "outputs": [
    {
     "name": "stdout",
     "output_type": "stream",
     "text": [
      "0.7423129301934638\n"
     ]
    }
   ],
   "source": [
    "from sklearn.linear_model import Ridge, RidgeCV\n",
    "from sklearn.preprocessing import PolynomialFeatures\n",
    "\n",
    "poly = PolynomialFeatures(2)\n",
    "X_poly_train = poly.fit_transform(X_train)\n",
    "X_poly_test = poly.transform(X_test)\n",
    "\n",
    "# # tuning alpha\n",
    "# alphas = 10**np.linspace(10,-2,100)*0.5\n",
    "# ridgecv = RidgeCV(alphas = alphas)\n",
    "# ridgecv.fit(X_train, y_train)\n",
    "# print(ridgecv.alpha_)\n",
    "\n",
    "# best alpha is lowkey 0.5?\n",
    "alpha = 0.5\n",
    "model = Ridge(alpha=alpha)\n",
    "model.fit(X_poly_train, y_train)\n",
    "\n",
    "y_pred = model.predict(X_poly_test)\n",
    "\n",
    "# Evaluate the model\n",
    "mse = mean_squared_error(y_test, y_pred)\n",
    "\n",
    "# ADJUSTED RMSE (sqrt MSE with p and n)\n",
    "p = X_train.shape[1] # number of predictors\n",
    "n = len(y_test) # number of observations \n",
    "adjusted_rmse = np.sqrt(mse * (n - 1) / (n - p))\n",
    "print(adjusted_rmse)"
   ]
  }
 ],
 "metadata": {
  "kernelspec": {
   "display_name": "Python 3",
   "language": "python",
   "name": "python3"
  },
  "language_info": {
   "codemirror_mode": {
    "name": "ipython",
    "version": 3
   },
   "file_extension": ".py",
   "mimetype": "text/x-python",
   "name": "python",
   "nbconvert_exporter": "python",
   "pygments_lexer": "ipython3",
   "version": "3.11.9"
  }
 },
 "nbformat": 4,
 "nbformat_minor": 2
}
