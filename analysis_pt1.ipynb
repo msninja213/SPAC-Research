{
 "cells": [
  {
   "cell_type": "code",
<<<<<<< HEAD
   "execution_count": 13,
=======
   "execution_count": 6,
>>>>>>> 89317d2766eaa512f26ebc9c4b6b965febb99c37
   "metadata": {},
   "outputs": [],
   "source": [
    "import pandas as pd\n",
    "import numpy as np\n",
    "from sklearn.model_selection import train_test_split\n",
    "from sklearn.linear_model import LinearRegression\n",
    "from sklearn.metrics import mean_squared_error "
   ]
  },
  {
   "cell_type": "code",
<<<<<<< HEAD
   "execution_count": 14,
=======
   "execution_count": 21,
>>>>>>> 89317d2766eaa512f26ebc9c4b6b965febb99c37
   "metadata": {},
   "outputs": [],
   "source": [
    "# Load data from Excel file\n",
    "data = pd.read_excel(\"C:\\\\Users\\\\msnin\\\\OneDrive\\\\\\Desktop\\\\SPAC Research\\\\Dataset 6-2023.xlsx\", sheet_name=\"OG (2)\")\n",
    "data.dropna(inplace=True)\n",
<<<<<<< HEAD
=======
    "data.shape \n",
>>>>>>> 89317d2766eaa512f26ebc9c4b6b965febb99c37
    "\n",
    "features = data.iloc[:, 2:-1]  # assuming the target column is the last one\n",
    "target = data['target']\n",
    "\n",
    "X_train, X_test, y_train, y_test = train_test_split(features, target, test_size=0.2, random_state=42)"
   ]
  },
  {
<<<<<<< HEAD
   "cell_type": "code",
   "execution_count": 15,
   "metadata": {},
   "outputs": [],
   "source": [
    "# WITH DUMMY VARIABLES (fixed effects)\n",
    "data_w_dummies = pd.get_dummies(data, columns=['year', 'deSPAC'], drop_first=True)\n",
    "\n",
    "features_dummy = data_w_dummies.iloc[:, 2:-1]  # Assuming the target column is the last one\n",
    "target = data_w_dummies['target']\n",
    "\n",
    "X_train_d, X_test_d, y_train_d, y_test_d = train_test_split(features_dummy, target, test_size=0.2, random_state=42)\n"
   ]
  },
  {
=======
>>>>>>> 89317d2766eaa512f26ebc9c4b6b965febb99c37
   "cell_type": "markdown",
   "metadata": {},
   "source": [
    "linear regression with variables \"ln_assets, ln_cash, ln_trust, warrant_liab, leverage_w, complexity, deSPAC, neg_fv_changes, ln_temp_equity, ln_temp_equity2, target\" (no _cons variable)\n"
   ]
  },
  {
   "cell_type": "code",
<<<<<<< HEAD
   "execution_count": 16,
=======
   "execution_count": 22,
>>>>>>> 89317d2766eaa512f26ebc9c4b6b965febb99c37
   "metadata": {},
   "outputs": [
    {
     "name": "stdout",
     "output_type": "stream",
     "text": [
<<<<<<< HEAD
      "Mean Squared Error: 0.7894382417910464\n",
      "Adjusted RMSE: 0.8978181638384568\n"
=======
      "Mean Squared Error: 0.6703863873045869\n",
      "Adjusted RMSE: 0.827375054007625\n"
>>>>>>> 89317d2766eaa512f26ebc9c4b6b965febb99c37
     ]
    }
   ],
   "source": [
    "model = LinearRegression()\n",
    "model.fit(X_train, y_train)\n",
    "predictions = model.predict(X_test)\n",
    "\n",
    "mse = mean_squared_error(y_test, predictions)\n",
    "print(\"Mean Squared Error:\", mse)\n",
    "\n",
    "# ADJUSTED RMSE (sqrt MSE with p and n)\n",
    "p = X_train.shape[1] # number of predictors\n",
    "n = len(y_test) # number of observations \n",
    "adjusted_rmse = np.sqrt(mse * (n - 1) / (n - p))\n",
    "print(\"Adjusted RMSE:\", adjusted_rmse)  \n",
    "\n"
   ]
  },
  {
   "cell_type": "markdown",
   "metadata": {},
   "source": [
    "polynomial line of best fit (same variables, quadratic had the best RMSE -- tested degrees 0-10)"
   ]
  },
  {
   "cell_type": "code",
<<<<<<< HEAD
   "execution_count": 17,
   "metadata": {},
   "outputs": [
    {
     "ename": "KeyboardInterrupt",
     "evalue": "",
     "output_type": "error",
     "traceback": [
      "\u001b[1;31m---------------------------------------------------------------------------\u001b[0m",
      "\u001b[1;31mKeyboardInterrupt\u001b[0m                         Traceback (most recent call last)",
      "Cell \u001b[1;32mIn[17], line 11\u001b[0m\n\u001b[0;32m      8\u001b[0m X_poly_test \u001b[38;5;241m=\u001b[39m poly\u001b[38;5;241m.\u001b[39mtransform(X_test)\n\u001b[0;32m     10\u001b[0m model \u001b[38;5;241m=\u001b[39m LinearRegression()\n\u001b[1;32m---> 11\u001b[0m \u001b[43mmodel\u001b[49m\u001b[38;5;241;43m.\u001b[39;49m\u001b[43mfit\u001b[49m\u001b[43m(\u001b[49m\u001b[43mX_poly_train\u001b[49m\u001b[43m,\u001b[49m\u001b[43m \u001b[49m\u001b[43my_train\u001b[49m\u001b[43m)\u001b[49m\n\u001b[0;32m     13\u001b[0m y_pred \u001b[38;5;241m=\u001b[39m model\u001b[38;5;241m.\u001b[39mpredict(X_poly_test)\n\u001b[0;32m     15\u001b[0m \u001b[38;5;66;03m# Evaluate the model\u001b[39;00m\n",
      "File \u001b[1;32m~\\AppData\\Local\\Packages\\PythonSoftwareFoundation.Python.3.11_qbz5n2kfra8p0\\LocalCache\\local-packages\\Python311\\site-packages\\sklearn\\base.py:1152\u001b[0m, in \u001b[0;36m_fit_context.<locals>.decorator.<locals>.wrapper\u001b[1;34m(estimator, *args, **kwargs)\u001b[0m\n\u001b[0;32m   1145\u001b[0m     estimator\u001b[38;5;241m.\u001b[39m_validate_params()\n\u001b[0;32m   1147\u001b[0m \u001b[38;5;28;01mwith\u001b[39;00m config_context(\n\u001b[0;32m   1148\u001b[0m     skip_parameter_validation\u001b[38;5;241m=\u001b[39m(\n\u001b[0;32m   1149\u001b[0m         prefer_skip_nested_validation \u001b[38;5;129;01mor\u001b[39;00m global_skip_validation\n\u001b[0;32m   1150\u001b[0m     )\n\u001b[0;32m   1151\u001b[0m ):\n\u001b[1;32m-> 1152\u001b[0m     \u001b[38;5;28;01mreturn\u001b[39;00m \u001b[43mfit_method\u001b[49m\u001b[43m(\u001b[49m\u001b[43mestimator\u001b[49m\u001b[43m,\u001b[49m\u001b[43m \u001b[49m\u001b[38;5;241;43m*\u001b[39;49m\u001b[43margs\u001b[49m\u001b[43m,\u001b[49m\u001b[43m \u001b[49m\u001b[38;5;241;43m*\u001b[39;49m\u001b[38;5;241;43m*\u001b[39;49m\u001b[43mkwargs\u001b[49m\u001b[43m)\u001b[49m\n",
      "File \u001b[1;32m~\\AppData\\Local\\Packages\\PythonSoftwareFoundation.Python.3.11_qbz5n2kfra8p0\\LocalCache\\local-packages\\Python311\\site-packages\\sklearn\\linear_model\\_base.py:751\u001b[0m, in \u001b[0;36mLinearRegression.fit\u001b[1;34m(self, X, y, sample_weight)\u001b[0m\n\u001b[0;32m    749\u001b[0m         \u001b[38;5;28mself\u001b[39m\u001b[38;5;241m.\u001b[39mcoef_ \u001b[38;5;241m=\u001b[39m np\u001b[38;5;241m.\u001b[39mvstack([out[\u001b[38;5;241m0\u001b[39m] \u001b[38;5;28;01mfor\u001b[39;00m out \u001b[38;5;129;01min\u001b[39;00m outs])\n\u001b[0;32m    750\u001b[0m \u001b[38;5;28;01melse\u001b[39;00m:\n\u001b[1;32m--> 751\u001b[0m     \u001b[38;5;28mself\u001b[39m\u001b[38;5;241m.\u001b[39mcoef_, _, \u001b[38;5;28mself\u001b[39m\u001b[38;5;241m.\u001b[39mrank_, \u001b[38;5;28mself\u001b[39m\u001b[38;5;241m.\u001b[39msingular_ \u001b[38;5;241m=\u001b[39m \u001b[43mlinalg\u001b[49m\u001b[38;5;241;43m.\u001b[39;49m\u001b[43mlstsq\u001b[49m\u001b[43m(\u001b[49m\u001b[43mX\u001b[49m\u001b[43m,\u001b[49m\u001b[43m \u001b[49m\u001b[43my\u001b[49m\u001b[43m)\u001b[49m\n\u001b[0;32m    752\u001b[0m     \u001b[38;5;28mself\u001b[39m\u001b[38;5;241m.\u001b[39mcoef_ \u001b[38;5;241m=\u001b[39m \u001b[38;5;28mself\u001b[39m\u001b[38;5;241m.\u001b[39mcoef_\u001b[38;5;241m.\u001b[39mT\n\u001b[0;32m    754\u001b[0m \u001b[38;5;28;01mif\u001b[39;00m y\u001b[38;5;241m.\u001b[39mndim \u001b[38;5;241m==\u001b[39m \u001b[38;5;241m1\u001b[39m:\n",
      "File \u001b[1;32m~\\AppData\\Local\\Packages\\PythonSoftwareFoundation.Python.3.11_qbz5n2kfra8p0\\LocalCache\\local-packages\\Python311\\site-packages\\scipy\\linalg\\_basic.py:1294\u001b[0m, in \u001b[0;36mlstsq\u001b[1;34m(a, b, cond, overwrite_a, overwrite_b, check_finite, lapack_driver)\u001b[0m\n\u001b[0;32m   1291\u001b[0m \u001b[38;5;28;01mif\u001b[39;00m info \u001b[38;5;241m<\u001b[39m \u001b[38;5;241m0\u001b[39m:\n\u001b[0;32m   1292\u001b[0m     \u001b[38;5;28;01mraise\u001b[39;00m \u001b[38;5;167;01mValueError\u001b[39;00m(\u001b[38;5;124m'\u001b[39m\u001b[38;5;124millegal value in \u001b[39m\u001b[38;5;132;01m%d\u001b[39;00m\u001b[38;5;124m-th argument of internal \u001b[39m\u001b[38;5;132;01m%s\u001b[39;00m\u001b[38;5;124m'\u001b[39m\n\u001b[0;32m   1293\u001b[0m                      \u001b[38;5;241m%\u001b[39m (\u001b[38;5;241m-\u001b[39minfo, lapack_driver))\n\u001b[1;32m-> 1294\u001b[0m resids \u001b[38;5;241m=\u001b[39m np\u001b[38;5;241m.\u001b[39masarray([], dtype\u001b[38;5;241m=\u001b[39mx\u001b[38;5;241m.\u001b[39mdtype)\n\u001b[0;32m   1295\u001b[0m \u001b[38;5;28;01mif\u001b[39;00m m \u001b[38;5;241m>\u001b[39m n:\n\u001b[0;32m   1296\u001b[0m     x1 \u001b[38;5;241m=\u001b[39m x[:n]\n",
      "\u001b[1;31mKeyboardInterrupt\u001b[0m: "
=======
   "execution_count": 20,
   "metadata": {},
   "outputs": [
    {
     "name": "stdout",
     "output_type": "stream",
     "text": [
      "{0: 1.3953061904980122, 1: 0.827375054007625, 2: 0.7390372059675095, 3: 0.8396946998955493, 4: 6.537340275536831, 5: 1123.205095439545, 6: 60137197.20582778, 7: 191626017.4815785, 8: 714283179.1848011, 9: 854018836.7617644}\n"
>>>>>>> 89317d2766eaa512f26ebc9c4b6b965febb99c37
     ]
    }
   ],
   "source": [
    "from sklearn.preprocessing import PolynomialFeatures\n",
    "\n",
    "adj_rmse_dict = {}\n",
    "\n",
    "for i in range(10):\n",
    "        poly = PolynomialFeatures(i)\n",
    "        X_poly_train = poly.fit_transform(X_train)\n",
    "        X_poly_test = poly.transform(X_test)\n",
    "\n",
    "        model = LinearRegression()\n",
    "        model.fit(X_poly_train, y_train)\n",
    "\n",
    "        y_pred = model.predict(X_poly_test)\n",
    "\n",
    "        # Evaluate the model\n",
    "        mse = mean_squared_error(y_test, y_pred)\n",
    "\n",
    "        # ADJUSTED RMSE (sqrt MSE with p and n)\n",
    "        p = X_train.shape[1] # number of predictors\n",
    "        n = len(y_test) # number of observations \n",
    "        adjusted_rmse = np.sqrt(mse * (n - 1) / (n - p))\n",
    "        adj_rmse_dict[i] = adjusted_rmse\n",
    "\n",
    "print(adj_rmse_dict)\n",
    "\n"
   ]
  },
  {
   "cell_type": "markdown",
   "metadata": {},
   "source": [
    "Ridge model (better at making long-term predictions, all variables are useful)"
   ]
  },
  {
   "cell_type": "code",
<<<<<<< HEAD
   "execution_count": 18,
=======
   "execution_count": 52,
>>>>>>> 89317d2766eaa512f26ebc9c4b6b965febb99c37
   "metadata": {},
   "outputs": [
    {
     "name": "stdout",
     "output_type": "stream",
     "text": [
<<<<<<< HEAD
      "0.8409447436953482\n"
=======
      "0.7423129301934638\n"
>>>>>>> 89317d2766eaa512f26ebc9c4b6b965febb99c37
     ]
    }
   ],
   "source": [
    "from sklearn.linear_model import Ridge, RidgeCV\n",
    "from sklearn.preprocessing import PolynomialFeatures\n",
    "\n",
    "poly = PolynomialFeatures(2)\n",
    "X_poly_train = poly.fit_transform(X_train)\n",
    "X_poly_test = poly.transform(X_test)\n",
    "\n",
    "# # tuning alpha\n",
    "# alphas = 10**np.linspace(10,-2,100)*0.5\n",
    "# ridgecv = RidgeCV(alphas = alphas)\n",
    "# ridgecv.fit(X_train, y_train)\n",
    "# print(ridgecv.alpha_)\n",
    "\n",
    "# best alpha is lowkey 0.5?\n",
    "alpha = 0.5\n",
    "model = Ridge(alpha=alpha)\n",
    "model.fit(X_poly_train, y_train)\n",
    "\n",
    "y_pred = model.predict(X_poly_test)\n",
    "\n",
    "# Evaluate the model\n",
    "mse = mean_squared_error(y_test, y_pred)\n",
    "\n",
    "# ADJUSTED RMSE (sqrt MSE with p and n)\n",
    "p = X_train.shape[1] # number of predictors\n",
    "n = len(y_test) # number of observations \n",
    "adjusted_rmse = np.sqrt(mse * (n - 1) / (n - p))\n",
    "print(adjusted_rmse)"
   ]
<<<<<<< HEAD
  },
  {
   "cell_type": "markdown",
   "metadata": {},
   "source": [
    "lin reg with deSPAC as fixed effect and year as a dummy variable"
   ]
  },
  {
   "cell_type": "code",
   "execution_count": 19,
   "metadata": {},
   "outputs": [
    {
     "name": "stdout",
     "output_type": "stream",
     "text": [
      "Mean Squared Error: 8.844087489586506e-29\n"
     ]
    }
   ],
   "source": [
    "model = LinearRegression()\n",
    "model.fit(X_train_d, y_train_d)\n",
    "\n",
    "# Make predictions\n",
    "y_pred_d = model.predict(X_test_d)\n",
    "\n",
    "# Evaluate the model\n",
    "mse = mean_squared_error(y_test_d, y_pred_d)\n",
    "print(\"Mean Squared Error:\", mse)"
   ]
=======
>>>>>>> 89317d2766eaa512f26ebc9c4b6b965febb99c37
  }
 ],
 "metadata": {
  "kernelspec": {
   "display_name": "Python 3",
   "language": "python",
   "name": "python3"
  },
  "language_info": {
   "codemirror_mode": {
    "name": "ipython",
    "version": 3
   },
   "file_extension": ".py",
   "mimetype": "text/x-python",
   "name": "python",
   "nbconvert_exporter": "python",
   "pygments_lexer": "ipython3",
   "version": "3.11.9"
  }
 },
 "nbformat": 4,
 "nbformat_minor": 2
}
