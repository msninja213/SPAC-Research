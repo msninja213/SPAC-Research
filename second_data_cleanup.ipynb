{
 "cells": [
  {
   "cell_type": "code",
   "execution_count": 2,
   "metadata": {},
   "outputs": [],
   "source": [
    "import pandas as pd\n",
    "import re "
   ]
  },
  {
   "cell_type": "code",
   "execution_count": 3,
   "metadata": {},
   "outputs": [],
   "source": [
    "# Load data from Excel files\n",
    "spac_alpha_new = pd.read_excel(\"C:\\\\Users\\\\msnin\\\\OneDrive\\\\Desktop\\\\SPAC Research\\\\SPACAlphadata - NEW.xlsx\", sheet_name=\"Closed deals only\")"
   ]
  },
  {
   "cell_type": "markdown",
   "metadata": {},
   "source": [
    "#### cleaning up tenor:\n",
    "- counting how many times they had to refile\n",
    "- counting the total number of months it took to file "
   ]
  },
  {
   "cell_type": "code",
   "execution_count": 8,
   "metadata": {},
   "outputs": [],
   "source": [
    "def extract_number(string):\n",
    "    if isinstance(string, int): # checking if the string passed through is an int --> just a single number inputted or not \n",
    "        return string\n",
    "    numbers = re.findall(r'\\d+', string)\n",
    "    return sum(int(num) for num in numbers)\n",
    "    #return sum(int(s) for s in string.split() if s.isdigit())\n",
    "\n",
    "def count_plus_signs(string):\n",
    "    if isinstance(string, int): # have to consider case if just 1 number \n",
    "        return 0\n",
    "    return string.count('+')\n",
    "\n",
    "spac_alpha_new['Total Months'] = spac_alpha_new['Tenor (months)'].apply(lambda x: extract_number(x))\n",
    "spac_alpha_new['# Times Refiled'] = spac_alpha_new['Tenor (months)'].apply(lambda x: count_plus_signs(x))\n",
    "\n",
    "spac_alpha_new.to_excel('SPACAlphadata - NEW.xlsx', sheet_name='Closed deals only', index=False)\n"
   ]
  },
  {
   "cell_type": "markdown",
   "metadata": {},
   "source": [
    "#### unit specs\n",
    "key: added to unit specs classification column, just using a dictionary pog"
   ]
  },
  {
   "cell_type": "code",
   "execution_count": 7,
   "metadata": {},
   "outputs": [],
   "source": [
    "complexity_mapping = {\n",
    "    \"U=S\": 0,\n",
    "    \"U=S+(3/4)W\": 1,\n",
    "    \"U=S+W\": 1,\n",
    "    \"U=SU+W\": 1,\n",
    "    \"U=S+W/2\": 1,\n",
    "    \"U=SU+W/2\": 1,\n",
    "    \"U=S+W/3\": 1,\n",
    "    \"U=S+W/4\": 1,\n",
    "    \"U=S+W/5\": 1,\n",
    "    \"U=S+W/6\": 1,\n",
    "    \"U=S+W/8\": 1,\n",
    "    \"U=S+R\": 1,\n",
    "    \"U=S+W/2+R\": 2,\n",
    "    \"U=S+(3/4)W+R\": 2,\n",
    "    \"U=S+R+(3/4)W\": 2,\n",
    "    \"U=S+R+W/2\": 2,\n",
    "    \"U=S+W+R\": 2,\n",
    "    'U=S+R+W': 2,\n",
    "    \"U=S+W+R/16\": 2\n",
    "}\n",
    "\n",
    "# spac_alpha_new['# Times Refiled'] = spac_alpha_new['Tenor (months)'].apply(lambda x: count_plus_signs(x))\n",
    "# spac_alpha_new.to_excel('SPACAlphadata - NEW.xlsx', sheet_name='Closed deals only', index=False)\n",
    "\n",
    "# now can apply this to the entire column at once \n",
    "spac_alpha_new['Unit Specs Classification'] = spac_alpha_new['Unit Specs'].map(complexity_mapping)\n",
    "spac_alpha_new.to_excel('SPACAlphadata - NEW.xlsx', sheet_name='Closed deals only', index=False)\n",
    "\n"
   ]
  },
  {
   "cell_type": "markdown",
   "metadata": {},
   "source": [
    "#### normalizing the warrant specs column (removing dollar signs basically)"
   ]
  },
  {
   "cell_type": "code",
   "execution_count": 8,
   "metadata": {},
   "outputs": [],
   "source": [
    "spac_alpha_new['Warrant Specs'] = spac_alpha_new['Warrant Specs'].str.replace('$', '')\n",
    "spac_alpha_new.to_excel('SPACAlphadata - NEW.xlsx', sheet_name='Closed deals only', index=False)"
   ]
  }
 ],
 "metadata": {
  "kernelspec": {
   "display_name": "Python 3",
   "language": "python",
   "name": "python3"
  },
  "language_info": {
   "codemirror_mode": {
    "name": "ipython",
    "version": 3
   },
   "file_extension": ".py",
   "mimetype": "text/x-python",
   "name": "python",
   "nbconvert_exporter": "python",
   "pygments_lexer": "ipython3",
   "version": "3.11.8"
  }
 },
 "nbformat": 4,
 "nbformat_minor": 2
}
